{
 "cells": [
  {
   "cell_type": "code",
   "execution_count": null,
   "id": "dc3a5d22-fe03-4f78-8e65-5d772f70193f",
   "metadata": {},
   "outputs": [],
   "source": []
  }
 ],
 "metadata": {
  "kernelspec": {
   "display_name": "",
   "name": ""
  },
  "language_info": {
   "name": ""
  }
 },
 "nbformat": 4,
 "nbformat_minor": 5
}
